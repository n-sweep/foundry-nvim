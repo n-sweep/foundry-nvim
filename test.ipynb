{
 "cells": [
  {
   "cell_type": "markdown",
   "id": "4589f138",
   "metadata": {},
   "source": [
    "# Jupyter Kernel Management"
   ]
  },
  {
   "cell_type": "markdown",
   "id": "0cd0bc4e",
   "metadata": {},
   "source": [
    "0 – 2 months (0 - 60 days) - $999\n",
    "3 – 6 months (61 – 179 days) - $895\n",
    "6 – 9 months (180 – 273 days) - $850\n",
    "9 – 12 months (274 – 359 days) - $800\n",
    "12 – 18 months (360 – 539 days) - $785\n",
    "18 – 24 months (540 days - 719 days) - $575\n",
    "24 – 36 months (720 - 1,079 days) - $450\n",
    "37+ months (1,080+ days) - $175"
   ]
  },
  {
   "cell_type": "code",
   "execution_count": null,
   "id": "d03472ad",
   "metadata": {},
   "outputs": [],
   "source": [
    "import pandas as pd\n",
    "import plotly.express as px"
   ]
  },
  {
   "cell_type": "code",
   "execution_count": null,
   "id": "e0890efe",
   "metadata": {},
   "outputs": [],
   "source": [
    "total_price = 999\n",
    "monthly_cost = 35\n",
    "payoff_tier = [999, 895, 850, 800, 785, 575, 450, 175]\n",
    "payoff_mons  = [0,   3,   6,   9,   12,  18,  24,  36]\n",
    "\n",
    "df = pd.DataFrame([(i, 35 * i) for i in range(1, 38)], columns=['month', 'spent_monthly'])"
   ]
  },
  {
   "cell_type": "code",
   "execution_count": null,
   "id": "b0dea2c2",
   "metadata": {},
   "outputs": [],
   "source": [
    "print('hello')\n",
    "for i in range(len(payoff_tier)):\n",
    "    mask = df['month'] > payoff_mons[i]\n",
    "    df.loc[mask, 'payoff_amt'] = payoff_tier[i]\n",
    "\n",
    "df['total_paid'] = df['spent_monthly'] + df['payoff_amt']\n",
    "df.head()"
   ]
  },
  {
   "cell_type": "code",
   "execution_count": null,
   "id": "c061535c",
   "metadata": {},
   "outputs": [],
   "source": [
    "fig = px.line(df, x='month', y=df.columns[1:])\n",
    "# fig.show()"
   ]
  },
  {
   "cell_type": "code",
   "execution_count": null,
   "id": "aba62dbf",
   "metadata": {},
   "outputs": [],
   "source": []
  }
 ],
 "metadata": {
  "kernelspec": {
   "display_name": "Python3",
   "language": "python",
   "name": "Python3"
  }
 },
 "nbformat": 4,
 "nbformat_minor": 5
}
